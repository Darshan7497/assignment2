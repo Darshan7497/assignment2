{
 "cells": [
  {
   "cell_type": "markdown",
   "id": "d70f997a-d738-4ef3-8d02-e4599a7e5cc5",
   "metadata": {},
   "source": [
    "1. Write a program to accept percentage from the user and display the grade accoding to the following\n",
    "   criteria:"
   ]
  },
  {
   "cell_type": "code",
   "execution_count": 3,
   "id": "d22fef03-182d-44bb-96cb-9acdb8e57d9c",
   "metadata": {},
   "outputs": [
    {
     "name": "stdout",
     "output_type": "stream",
     "text": [
      "Enter percentage\n"
     ]
    },
    {
     "name": "stdin",
     "output_type": "stream",
     "text": [
      " 30\n"
     ]
    },
    {
     "name": "stdout",
     "output_type": "stream",
     "text": [
      "GRADE D\n"
     ]
    }
   ],
   "source": [
    "print(\"Enter percentage\")\n",
    "percentage = int(input())\n",
    "\n",
    "if percentage > 90:\n",
    "    print(\"GRADE A\")\n",
    "elif percentage > 80 and percentage <= 90:\n",
    "    print(\"GRADE B\")\n",
    "elif percentage > 60 and percentage <= 80:\n",
    "    print(\"GRADE C\")\n",
    "elif percentage < 60:\n",
    "     print(\"GRADE D\")"
   ]
  },
  {
   "cell_type": "markdown",
   "id": "a2fb4d6b-a3b4-4885-bf64-9c0a07a3d0db",
   "metadata": {},
   "source": [
    "2.Write a program to accept the cost price of a bike and display the road tax to be paid according to the following criteria:"
   ]
  },
  {
   "cell_type": "code",
   "execution_count": 4,
   "id": "8ade6654-d303-48a4-9ac4-505f96322546",
   "metadata": {},
   "outputs": [
    {
     "name": "stdout",
     "output_type": "stream",
     "text": [
      "ENTER COST PRICE\n"
     ]
    },
    {
     "name": "stdin",
     "output_type": "stream",
     "text": [
      " 2000\n"
     ]
    },
    {
     "name": "stdout",
     "output_type": "stream",
     "text": [
      "ROAD TAX TO BE 5%\n"
     ]
    }
   ],
   "source": [
    "print(\"ENTER COST PRICE\")\n",
    "COST_PRICE = int(input())\n",
    "\n",
    "if COST_PRICE > 100000:\n",
    "    print(\"ROAD TAX TO BE 15%\")\n",
    "elif COST_PRICE > 50000 and COST_PRICE <=100000:\n",
    "    print(\"ROAD TAX TO BE 10%\")\n",
    "elif COST_PRICE <=50000:    \n",
    "    print(\"ROAD TAX TO BE 5%\")"
   ]
  },
  {
   "cell_type": "markdown",
   "id": "cc0be59d-40ca-4f8f-9fd9-9436097e7d28",
   "metadata": {},
   "source": [
    "3. Accept any city from the user and display monuments of that city."
   ]
  },
  {
   "cell_type": "code",
   "execution_count": null,
   "id": "7a9a3d6f-b91d-4fce-98d3-79330a2a1763",
   "metadata": {},
   "outputs": [
    {
     "name": "stdout",
     "output_type": "stream",
     "text": [
      "ENTER THE CITY\n"
     ]
    },
    {
     "name": "stdin",
     "output_type": "stream",
     "text": [
      " sss\n"
     ]
    },
    {
     "name": "stdout",
     "output_type": "stream",
     "text": [
      "Enter Correct City\n"
     ]
    }
   ],
   "source": [
    "print(\"ENTER THE CITY\" )\n",
    "CITY= input()\n",
    "\n",
    "if CITY == \"Delhi\":\n",
    "    print(\" Famous Monuments of Delhi is RED FORT\")\n",
    "elif CITY == \"Agra\":\n",
    "    print (\"Famous Monuments of Agra  is TAJ MAHAL\")\n",
    "elif CITY== \"Jaipur\":\n",
    "    print (\"Famous Monuments of Jaipur is Jal Mahal\")\n",
    "else:\n",
    "    print(\"Enter Correct City\")"
   ]
  },
  {
   "cell_type": "markdown",
   "id": "f24c9b02-b78f-4dbc-b2ee-1ad47385d9e7",
   "metadata": {},
   "source": [
    "4.Check how many times a given number can be divided by 3 before it is less than or equal to 10."
   ]
  },
  {
   "cell_type": "code",
   "execution_count": 8,
   "id": "82092fcf-aee3-4020-9dbd-aafc018ee215",
   "metadata": {},
   "outputs": [
    {
     "name": "stdin",
     "output_type": "stream",
     "text": [
      "Enter Number 8\n"
     ]
    },
    {
     "name": "stdout",
     "output_type": "stream",
     "text": [
      " These Number can be divided by 3\n"
     ]
    }
   ],
   "source": [
    "Number= int(input(\"Enter Number\"))\n",
    "count = 0\n",
    "while Number > 10:\n",
    "      Number = Number/3\n",
    "count += 1  \n",
    "print(\" These Number can be divided by 3\")"
   ]
  },
  {
   "cell_type": "markdown",
   "id": "18f6e3ee-0963-452d-bd7e-db424da6f099",
   "metadata": {},
   "source": [
    "5.Why and when to use while loop in Python give a detaile description with example."
   ]
  },
  {
   "cell_type": "markdown",
   "id": "593e2b69-fb30-4587-81f9-85b9bb31fc9f",
   "metadata": {},
   "source": [
    "Ans=While loop is used when we have to stop/start executing some codes only when some conditions are fulfilled. e.g 'Count from 1 to 10' - Here the conditionn is to start from int 1 and keep executing untill the counter doesn't reach 10 or in other words keep executing from 1 to till the counter is less than 11. "
   ]
  },
  {
   "cell_type": "markdown",
   "id": "6c1821df-bcfb-4de1-baef-c787399b6c47",
   "metadata": {},
   "source": [
    "6.Use nested while loop to print 3 different pattern."
   ]
  },
  {
   "cell_type": "code",
   "execution_count": 12,
   "id": "0bb31ab0-a7c9-4dc7-8987-f2519b25f9fb",
   "metadata": {},
   "outputs": [
    {
     "name": "stdout",
     "output_type": "stream",
     "text": [
      "12345\n",
      "1234\n",
      "123\n",
      "12\n",
      "1\n"
     ]
    }
   ],
   "source": [
    "#1st pattern\n",
    "i = int(5)\n",
    "while (i > 0):\n",
    "    j = int(0)\n",
    "    while (j < i):\n",
    "        print(j+1,end='')\n",
    "        j+=1\n",
    "    i -= 1\n",
    "    print(\"\")"
   ]
  },
  {
   "cell_type": "code",
   "execution_count": 1,
   "id": "4e1da251-e2b6-4e77-99e5-9a38be7e83e0",
   "metadata": {},
   "outputs": [
    {
     "name": "stdout",
     "output_type": "stream",
     "text": [
      "1\n",
      "21\n",
      "321\n",
      "4321\n",
      "54321\n"
     ]
    }
   ],
   "source": [
    "# 2nd Pattern\n",
    "i = int(5)\n",
    "count = int(1)\n",
    "while (i > 0):\n",
    "    j = i - count\n",
    "    while (j < i):\n",
    "        print(i - j, end='')\n",
    "        j += 1\n",
    "    i -= 1\n",
    "    count += 1\n",
    "    print(\"\")"
   ]
  },
  {
   "cell_type": "code",
   "execution_count": 2,
   "id": "d8ac3afb-5a21-41be-a023-d81c8b979385",
   "metadata": {},
   "outputs": [
    {
     "name": "stdout",
     "output_type": "stream",
     "text": [
      "54321\n",
      "4321\n",
      "321\n",
      "21\n",
      "1\n"
     ]
    }
   ],
   "source": [
    "# 3rd Pattern\n",
    "i = int(5)\n",
    "while (i > 0):\n",
    "    j = i\n",
    "    while (j > 0):\n",
    "        print(j, end='')\n",
    "        j -= 1\n",
    "    print(\"\")\n",
    "    i -= 1"
   ]
  },
  {
   "cell_type": "markdown",
   "id": "f056f266-3922-443b-8b59-f0d70e1e0d57",
   "metadata": {},
   "source": [
    "7. Reverse a while loop"
   ]
  }
 ],
 "metadata": {
  "kernelspec": {
   "display_name": "Python 3 (ipykernel)",
   "language": "python",
   "name": "python3"
  },
  "language_info": {
   "codemirror_mode": {
    "name": "ipython",
    "version": 3
   },
   "file_extension": ".py",
   "mimetype": "text/x-python",
   "name": "python",
   "nbconvert_exporter": "python",
   "pygments_lexer": "ipython3",
   "version": "3.10.8"
  }
 },
 "nbformat": 4,
 "nbformat_minor": 5
}
